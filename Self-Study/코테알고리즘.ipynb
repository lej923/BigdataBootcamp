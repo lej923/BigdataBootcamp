{
 "cells": [
  {
   "cell_type": "code",
   "execution_count": 1,
   "id": "e0ab1e15",
   "metadata": {},
   "outputs": [],
   "source": [
    "###https://school.programmers.co.kr/learn/courses/30/lessons/12912#\n",
    "#두 정수 사이의 합\n",
    "def solution(a, b):\n",
    "    answer = 0\n",
    "    \n",
    "    if b < a:\n",
    "        a, b = b, a\n",
    "\n",
    "    for i in range(a, b+1):\n",
    "        answer += i\n",
    "    return answer"
   ]
  },
  {
   "cell_type": "code",
   "execution_count": null,
   "id": "d8aab18c",
   "metadata": {},
   "outputs": [],
   "source": [
    "#오답 노트 \n",
    "def solution(a, b):\n",
    "    answer = 0\n",
    "    if a == b:         #위 셀에서는 a와 b의 대소구분을 해주는 if구문을 추가함으로써 두개가 같은지 비교하는 해당 if문 필요없어짐\n",
    "        return a\n",
    "    elif a < b:\n",
    "        for i in range(a, b+1):\n",
    "            answer += i         # 지정하는 변수명은 항상 좌변에!  answer = answer + i\n",
    "            return answer       # return의 indent가 for문 안에 들어있어 최종적으로 \"answer\"값을 산출해주지 않고 내부적으로 \n",
    "                                ## 계속 for문만 돌게되는 문제 --> return answer을 for문 밖으로 뺴줌으로써 for문이 돌 때마다\n",
    "                                ### answer이 반환되도록 짜야함"
   ]
  },
  {
   "cell_type": "code",
   "execution_count": 2,
   "id": "895d7a0c",
   "metadata": {},
   "outputs": [
    {
     "name": "stdout",
     "output_type": "stream",
     "text": [
      "수박수\n",
      "수박수박\n"
     ]
    }
   ],
   "source": [
    "#https://programmers.co.kr/learn/courses/30/lessons/12922\n",
    "##2. 수박수박수박수박수?\n",
    "def solution(n):\n",
    "    if n %2 == 0:\n",
    "        answer = \"수박\"*(n//2)\n",
    "    else: \n",
    "        answer = \"수박\"*(n//2) + \"수\" * (n%2)\n",
    "    return answer\n",
    "\n",
    "print(solution(3))\n",
    "print(solution(4))"
   ]
  },
  {
   "cell_type": "code",
   "execution_count": 3,
   "id": "85ad546b",
   "metadata": {},
   "outputs": [],
   "source": [
    "#https://programmers.co.kr/learn/courses/30/lessons/12919\n",
    "#3. 서울에서 김서방 찾기\n",
    "\n",
    "def solution(seoul):\n",
    "    idx = seoul.index(\"Kim\")\n",
    "    name = seoul[idx]\n",
    "    answer = f\"김서방은 {idx}에 있다\"\n",
    "    return answer\n",
    "# list 는 find(), iloc[] 사용 불가\n",
    "# 해당 메소드는 Series,DataFrame만 적용가능"
   ]
  },
  {
   "cell_type": "code",
   "execution_count": null,
   "id": "24e61e07",
   "metadata": {},
   "outputs": [],
   "source": [
    "#https://programmers.co.kr/learn/courses/30/lessons/12928\n",
    "##4. 약수의 합"
   ]
  },
  {
   "cell_type": "code",
   "execution_count": 31,
   "id": "802575b2",
   "metadata": {},
   "outputs": [],
   "source": [
    "def solution(n):\n",
    "    yaksu = []\n",
    "    answer = 0 \n",
    "    for i in range(1,n+1):\n",
    "        if n % i == 0:\n",
    "            yaksu.append(i)\n",
    "    for j in yaksu:\n",
    "        answer = answer + j\n",
    "    return f\"{n}의 약수는 {yaksu}입니다. 이를 모두 더하면 {answer} 입니다.\"\n",
    "   "
   ]
  },
  {
   "cell_type": "code",
   "execution_count": 32,
   "id": "bf09e1bd",
   "metadata": {},
   "outputs": [
    {
     "data": {
      "text/plain": [
       "'12의 약수는 [1, 2, 3, 4, 6, 12]입니다. 이를 모두 더하면 28 입니다.'"
      ]
     },
     "execution_count": 32,
     "metadata": {},
     "output_type": "execute_result"
    }
   ],
   "source": [
    "solution(12)"
   ]
  },
  {
   "cell_type": "code",
   "execution_count": null,
   "id": "479361d8",
   "metadata": {},
   "outputs": [],
   "source": []
  },
  {
   "cell_type": "code",
   "execution_count": null,
   "id": "3d8ddbbf",
   "metadata": {},
   "outputs": [],
   "source": []
  }
 ],
 "metadata": {
  "kernelspec": {
   "display_name": "Python 3 (ipykernel)",
   "language": "python",
   "name": "python3"
  },
  "language_info": {
   "codemirror_mode": {
    "name": "ipython",
    "version": 3
   },
   "file_extension": ".py",
   "mimetype": "text/x-python",
   "name": "python",
   "nbconvert_exporter": "python",
   "pygments_lexer": "ipython3",
   "version": "3.9.6"
  }
 },
 "nbformat": 4,
 "nbformat_minor": 5
}
