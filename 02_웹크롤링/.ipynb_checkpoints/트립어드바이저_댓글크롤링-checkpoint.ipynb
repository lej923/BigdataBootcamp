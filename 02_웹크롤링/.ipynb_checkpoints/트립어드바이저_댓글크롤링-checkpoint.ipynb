{
 "cells": [
  {
   "cell_type": "markdown",
   "id": "2fb5a70b",
   "metadata": {},
   "source": [
    "#트립어드바이저_ 리뷰 크롤링\n",
    "\n",
    "- 한 페이지 댓글 가져오기"
   ]
  },
  {
   "cell_type": "code",
   "execution_count": 48,
   "id": "a06acbcc",
   "metadata": {},
   "outputs": [],
   "source": [
    "from selenium import webdriver\n",
    "from selenium.webdriver.common.by import By\n",
    "\n",
    "from webdriver_manager.chrome import ChromeDriverManager\n",
    "from selenium.webdriver.chrome.service import Service\n",
    "\n",
    "from bs4 import BeautifulSoup\n",
    "import time"
   ]
  },
  {
   "cell_type": "code",
   "execution_count": 49,
   "id": "c3f310c4",
   "metadata": {},
   "outputs": [],
   "source": [
    "url = \"https://www.tripadvisor.co.kr/Restaurant_Review-g294197-d3200324-Reviews-Jungsik-Seoul.html#REVIEWS\""
   ]
  },
  {
   "cell_type": "code",
   "execution_count": 50,
   "id": "d5badb65",
   "metadata": {},
   "outputs": [],
   "source": [
    "service= Service(executable_path=ChromeDriverManager().install())\n",
    "browser = webdriver.Chrome(service = service)\n",
    "browser.implicitly_wait(5)   #찾는 element가 생길 때까지 최대 5초를 대기   \n",
    "# time.sleep(10)\n",
    "browser.maximize_window()\n",
    "#url 페이지로 이동\n",
    "browser.get(url)  #웹브라우저를 띄우는 거니까 header 명시 필요없음"
   ]
  },
  {
   "cell_type": "code",
   "execution_count": 45,
   "id": "a60ad9a6",
   "metadata": {},
   "outputs": [],
   "source": [
    "#url을 가져온 후 리뷰 내용 다 보이게 <더보기> 클릭 \n",
    "more_btn = browser.find_element(By.CSS_SELECTOR, \".taLnk.ulBlueLinks\")\n",
    "more_btn.click()\n",
    "time.sleep(10)\n",
    "html =browser.page_source\n",
    "soup = BeautifulSoup(html, \"lxml\")\n",
    "comment_tag_list = soup.select(\"p.partial_entry\")\n",
    "comment_list=[]\n",
    "# print(len(comment_list))\n",
    "for tag in comment_tag_list:\n",
    "    comment_list.append(tag.get_text().strip())\n"
   ]
  },
  {
   "cell_type": "markdown",
   "id": "9d58042f",
   "metadata": {},
   "source": [
    "##모든 댓글들을 조회##\n",
    "\n",
    "-반복 \n",
    "    -현재 페이지 댓글처리\n",
    "    -다음 버튼 클릭"
   ]
  },
  {
   "cell_type": "code",
   "execution_count": 77,
   "id": "99f85138",
   "metadata": {},
   "outputs": [],
   "source": [
    "from selenium import webdriver\n",
    "from selenium.webdriver.common.by import By\n",
    "from selenium.webdriver.support.ui import WebDriverWait\n",
    "from selenium.webdriver.support import expected_conditions as EC\n",
    "from webdriver_manager.chrome import ChromeDriverManager\n",
    "from selenium.webdriver.chrome.service import Service\n",
    "\n",
    "from bs4 import BeautifulSoup\n",
    "import time\n",
    "\n",
    "url = \"https://www.tripadvisor.co.kr/Restaurant_Review-g294197-d17423735-Reviews-Jangseng_Geongangwon-Seoul.html\""
   ]
  },
  {
   "cell_type": "code",
   "execution_count": 76,
   "id": "6939f005",
   "metadata": {},
   "outputs": [],
   "source": [
    "service= Service(executable_path=ChromeDriverManager().install())\n",
    "browser = webdriver.Chrome(service = service)\n",
    "browser.implicitly_wait(5)   #찾는 element가 생길 때까지 최대 5초를 대기   \n",
    "# time.sleep(10)\n",
    "browser.maximize_window()\n",
    "#url 페이지로 이동\n",
    "browser.get(url)  #웹브라우저를 띄우는 거니까 header 명시 필요없음"
   ]
  },
  {
   "cell_type": "code",
   "execution_count": 73,
   "id": "18353c64",
   "metadata": {},
   "outputs": [
    {
     "ename": "SyntaxError",
     "evalue": "invalid syntax (3482250795.py, line 3)",
     "output_type": "error",
     "traceback": [
      "\u001b[0;36m  File \u001b[0;32m\"/var/folders/3f/kms2_0v51yg79311_6qmkwkm0000gn/T/ipykernel_24823/3482250795.py\"\u001b[0;36m, line \u001b[0;32m3\u001b[0m\n\u001b[0;31m    page = browser.find_elements(By.CSS_SELCTOR, \"div > a data-page-number = f\"{i}\"\")\u001b[0m\n\u001b[0m                                                                               ^\u001b[0m\n\u001b[0;31mSyntaxError\u001b[0m\u001b[0;31m:\u001b[0m invalid syntax\n"
     ]
    }
   ],
   "source": [
    "\n",
    "comment_list=[]\n",
    "    \n",
    "i = 0\n",
    "while True:\n",
    "    i += 1\n",
    "#url을 가져온 후 리뷰 내용 다 보이게 <더보기> 클릭     \n",
    "#     more_btn = browser.find_element(By.CSS_SELECTOR, \".taLnk.ulBlueLinks\")\n",
    "    more_btn = WebDriverWait(browser,10).until(EC.Presence_of_element_located([By.CSS_SELECTOR, \".taLnk.ulBlueL])\n",
    "    more_btn.click()\n",
    "    time.sleep(10)\n",
    "    html =browser.page_source\n",
    "    soup = BeautifulSoup(html, \"lxml\")\n",
    "    comment_tag_list = soup.select(\"p.partial_entry\")\n",
    "  \n",
    "# print(len(comment_list))\n",
    "    for tag in comment_tag_list:\n",
    "        comment_list.append(tag.get_text().strip())\n",
    "    \n",
    "    #<다음>버튼 찾고 클릭 \n",
    "    ##class = \"nav next ui_button primary\"\n",
    "try:  \n",
    "    next_btn = browser.find_element(By.CSS_SELECTOR, \"#taplc_location_reviews_list_resp_rr_resp_0 a.nav.next.ui_button.primary\")\n",
    "    next_btn.click()\n",
    "    time.sleep(1)\n",
    "except:\n",
    "    print(\"종료\")"
   ]
  },
  {
   "cell_type": "code",
   "execution_count": 74,
   "id": "2955a65e",
   "metadata": {},
   "outputs": [],
   "source": [
    "browser.close()"
   ]
  },
  {
   "cell_type": "code",
   "execution_count": null,
   "id": "50eff322",
   "metadata": {},
   "outputs": [],
   "source": []
  }
 ],
 "metadata": {
  "kernelspec": {
   "display_name": "Python 3 (ipykernel)",
   "language": "python",
   "name": "python3"
  },
  "language_info": {
   "codemirror_mode": {
    "name": "ipython",
    "version": 3
   },
   "file_extension": ".py",
   "mimetype": "text/x-python",
   "name": "python",
   "nbconvert_exporter": "python",
   "pygments_lexer": "ipython3",
   "version": "3.9.13"
  }
 },
 "nbformat": 4,
 "nbformat_minor": 5
}
